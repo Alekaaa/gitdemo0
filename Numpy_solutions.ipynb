{
  "nbformat": 4,
  "nbformat_minor": 0,
  "metadata": {
    "colab": {
      "provenance": [],
      "collapsed_sections": []
    },
    "kernelspec": {
      "name": "python3",
      "display_name": "Python 3"
    },
    "language_info": {
      "name": "python"
    }
  },
  "cells": [
    {
      "cell_type": "code",
      "execution_count": null,
      "metadata": {
        "id": "h5hQVgn7G0RB"
      },
      "outputs": [],
      "source": [
        "#a.Импортируйте библиотеку NumPy\n",
        "import numpy as np"
      ]
    },
    {
      "cell_type": "code",
      "source": [
        "#b.Создайте массив из 10 нулей\n",
        "import numpy as np\n",
        "print(np.zeros(10))"
      ],
      "metadata": {
        "colab": {
          "base_uri": "https://localhost:8080/"
        },
        "id": "48g43Ey7Nb80",
        "outputId": "6e968372-e548-4fab-a956-66a697a08a54"
      },
      "execution_count": null,
      "outputs": [
        {
          "output_type": "stream",
          "name": "stdout",
          "text": [
            "[0. 0. 0. 0. 0. 0. 0. 0. 0. 0.]\n"
          ]
        }
      ]
    },
    {
      "cell_type": "code",
      "source": [
        "#c.Создать массив из 10 единиц\n",
        "import numpy as np\n",
        "print(np.ones(10))"
      ],
      "metadata": {
        "colab": {
          "base_uri": "https://localhost:8080/"
        },
        "id": "NKSPeT33OPgo",
        "outputId": "16ad321a-f11d-4133-8a20-8ce5974a4246"
      },
      "execution_count": null,
      "outputs": [
        {
          "output_type": "stream",
          "name": "stdout",
          "text": [
            "[1. 1. 1. 1. 1. 1. 1. 1. 1. 1.]\n"
          ]
        }
      ]
    },
    {
      "cell_type": "code",
      "source": [
        "#d.Создать массив из 10 пятерок\n",
        "import numpy as np\n",
        "print(np.ones(10) * 5)"
      ],
      "metadata": {
        "colab": {
          "base_uri": "https://localhost:8080/"
        },
        "id": "SiFk8TXfO8FJ",
        "outputId": "057a27be-d47b-4380-f635-1228c3964c5e"
      },
      "execution_count": null,
      "outputs": [
        {
          "output_type": "stream",
          "name": "stdout",
          "text": [
            "[5. 5. 5. 5. 5. 5. 5. 5. 5. 5.]\n"
          ]
        }
      ]
    },
    {
      "cell_type": "code",
      "source": [
        "#e.Создать массив из целых чисел от 10 до 50\n",
        "import numpy as np\n",
        "print(np.arange(10,50))"
      ],
      "metadata": {
        "colab": {
          "base_uri": "https://localhost:8080/"
        },
        "id": "uVC5KYhEPmrj",
        "outputId": "047a9d6a-7e63-4e95-f1f4-93178d26ac25"
      },
      "execution_count": null,
      "outputs": [
        {
          "output_type": "stream",
          "name": "stdout",
          "text": [
            "[10 11 12 13 14 15 16 17 18 19 20 21 22 23 24 25 26 27 28 29 30 31 32 33\n",
            " 34 35 36 37 38 39 40 41 42 43 44 45 46 47 48 49]\n"
          ]
        }
      ]
    },
    {
      "cell_type": "code",
      "source": [
        "#f.Создать массив из четных чисел от 10 до 50\n",
        "import numpy as np\n",
        "print(np.arange(10,50,2))"
      ],
      "metadata": {
        "colab": {
          "base_uri": "https://localhost:8080/"
        },
        "id": "kZEyFz6NQKTc",
        "outputId": "df01a4b5-5a11-4022-8c16-fd1c7e979e6c"
      },
      "execution_count": null,
      "outputs": [
        {
          "output_type": "stream",
          "name": "stdout",
          "text": [
            "[10 12 14 16 18 20 22 24 26 28 30 32 34 36 38 40 42 44 46 48]\n"
          ]
        }
      ]
    },
    {
      "cell_type": "code",
      "source": [
        "#g.Создать матрицу 3х3 с числами от 0 до 8\n",
        "import numpy as np\n",
        "print(np.arange(0,9).reshape(3,3))"
      ],
      "metadata": {
        "colab": {
          "base_uri": "https://localhost:8080/"
        },
        "id": "ILeAQ4iJQj8Y",
        "outputId": "efe85c22-3165-4552-b7ed-220e21050d8a"
      },
      "execution_count": null,
      "outputs": [
        {
          "output_type": "stream",
          "name": "stdout",
          "text": [
            "[[0 1 2]\n",
            " [3 4 5]\n",
            " [6 7 8]]\n"
          ]
        }
      ]
    },
    {
      "cell_type": "code",
      "source": [
        "#h.Создать единичную матрицу 3x3\n",
        "import numpy as np\n",
        "print(np.ones(9).reshape(3,3))"
      ],
      "metadata": {
        "colab": {
          "base_uri": "https://localhost:8080/"
        },
        "id": "XXvQfYFKRHxm",
        "outputId": "3fd25af0-b8eb-4d21-8404-d15773e206bb"
      },
      "execution_count": null,
      "outputs": [
        {
          "output_type": "stream",
          "name": "stdout",
          "text": [
            "[[1. 1. 1.]\n",
            " [1. 1. 1.]\n",
            " [1. 1. 1.]]\n"
          ]
        }
      ]
    },
    {
      "cell_type": "code",
      "source": [
        "#i.Используйте NumPy для генерации случайного числа от 0 до 1\n",
        "import numpy as np\n",
        "print(np.random.randint(0,2))"
      ],
      "metadata": {
        "colab": {
          "base_uri": "https://localhost:8080/"
        },
        "id": "iVQ1CEfPRchX",
        "outputId": "72a6deed-6b68-4623-c5fe-e6ce027aad9c"
      },
      "execution_count": null,
      "outputs": [
        {
          "output_type": "stream",
          "name": "stdout",
          "text": [
            "0\n"
          ]
        }
      ]
    },
    {
      "cell_type": "code",
      "source": [
        "#j.Используйте NumPy для генерации массива из 25 случайных чисел,взятых из стандартного нормального распределения\n",
        "import numpy as np\n",
        "print(np.random.randn(25))"
      ],
      "metadata": {
        "colab": {
          "base_uri": "https://localhost:8080/"
        },
        "id": "BHEqG5m4UByL",
        "outputId": "bbd87f06-76d5-434c-de19-d9e641386723"
      },
      "execution_count": null,
      "outputs": [
        {
          "output_type": "stream",
          "name": "stdout",
          "text": [
            "[-0.38027915 -0.58828161 -0.80394081 -0.68107032  1.11817667 -0.19908951\n",
            " -1.03079801 -0.99529417 -0.31660865 -1.80564275 -1.22628856 -0.26692279\n",
            " -1.2601432  -0.44943816  0.72254527 -0.19216514 -0.63787724 -0.74844635\n",
            " -0.24053403 -0.31830774 -0.41175952  1.26641474 -1.23951287  0.79604228\n",
            " -0.36158808]\n"
          ]
        }
      ]
    },
    {
      "cell_type": "code",
      "source": [
        "#k.Создайте следующую матрицу используя функции библиотеки NumPy\n",
        "import numpy as np\n",
        "print(np.arange(0.01, 1.01, 0.01).reshape(10, 10))"
      ],
      "metadata": {
        "colab": {
          "base_uri": "https://localhost:8080/"
        },
        "id": "2q7nT9uJUemh",
        "outputId": "1aaf953e-4fb3-447f-9e27-f26cdd6a76f5"
      },
      "execution_count": null,
      "outputs": [
        {
          "output_type": "stream",
          "name": "stdout",
          "text": [
            "[[0.01 0.02 0.03 0.04 0.05 0.06 0.07 0.08 0.09 0.1 ]\n",
            " [0.11 0.12 0.13 0.14 0.15 0.16 0.17 0.18 0.19 0.2 ]\n",
            " [0.21 0.22 0.23 0.24 0.25 0.26 0.27 0.28 0.29 0.3 ]\n",
            " [0.31 0.32 0.33 0.34 0.35 0.36 0.37 0.38 0.39 0.4 ]\n",
            " [0.41 0.42 0.43 0.44 0.45 0.46 0.47 0.48 0.49 0.5 ]\n",
            " [0.51 0.52 0.53 0.54 0.55 0.56 0.57 0.58 0.59 0.6 ]\n",
            " [0.61 0.62 0.63 0.64 0.65 0.66 0.67 0.68 0.69 0.7 ]\n",
            " [0.71 0.72 0.73 0.74 0.75 0.76 0.77 0.78 0.79 0.8 ]\n",
            " [0.81 0.82 0.83 0.84 0.85 0.86 0.87 0.88 0.89 0.9 ]\n",
            " [0.91 0.92 0.93 0.94 0.95 0.96 0.97 0.98 0.99 1.  ]]\n"
          ]
        }
      ]
    },
    {
      "cell_type": "code",
      "source": [
        "#l.Необходимо написать код который вернет следующую матрицуиз стартовой\n",
        "import numpy as np\n",
        "mat = np.arange(1,26).reshape(5,5)\n",
        "print(mat[2:, 1:])"
      ],
      "metadata": {
        "colab": {
          "base_uri": "https://localhost:8080/"
        },
        "id": "iov5dBmkWFs9",
        "outputId": "86d58166-4099-42fe-a821-cf4422abfa76"
      },
      "execution_count": null,
      "outputs": [
        {
          "output_type": "stream",
          "name": "stdout",
          "text": [
            "[[12 13 14 15]\n",
            " [17 18 19 20]\n",
            " [22 23 24 25]]\n"
          ]
        }
      ]
    },
    {
      "cell_type": "code",
      "source": [
        "#m.Написать код обращения к элементу который вернет значение  20 из стартовой матрицы задачи l.\n",
        "import numpy as np\n",
        "mat = np.arange(1,26).reshape(5,5)\n",
        "print(mat[3, 4])"
      ],
      "metadata": {
        "colab": {
          "base_uri": "https://localhost:8080/"
        },
        "id": "WfAohXXsX5vz",
        "outputId": "b065994c-e48c-4522-c48e-791970cc7269"
      },
      "execution_count": null,
      "outputs": [
        {
          "output_type": "stream",
          "name": "stdout",
          "text": [
            "20\n"
          ]
        }
      ]
    },
    {
      "cell_type": "code",
      "source": [
        "#n.Написать код к стартовой матрице задачи l , который воспроизводитвывод, показанный ниже\n",
        "import numpy as np\n",
        "mat = np.arange(1,26).reshape(5,5)\n",
        "print(mat[0:3, 1:2])"
      ],
      "metadata": {
        "colab": {
          "base_uri": "https://localhost:8080/"
        },
        "id": "8Y7vjpleYjvN",
        "outputId": "153a004f-53e4-4d26-e544-53cec476cb24"
      },
      "execution_count": null,
      "outputs": [
        {
          "output_type": "stream",
          "name": "stdout",
          "text": [
            "[[ 2]\n",
            " [ 7]\n",
            " [12]]\n"
          ]
        }
      ]
    },
    {
      "cell_type": "code",
      "source": [
        "#o.Написать код к стартовой матрице задачи l , который воспроизводит вывод, показанный ниже\n",
        "import numpy as np\n",
        "mat = np.arange(1,26).reshape(5,5)\n",
        "print(mat[-1])"
      ],
      "metadata": {
        "colab": {
          "base_uri": "https://localhost:8080/"
        },
        "id": "paHGT7P4ZMIh",
        "outputId": "23c59cdf-3aea-4a46-a254-54223f0f4be8"
      },
      "execution_count": null,
      "outputs": [
        {
          "output_type": "stream",
          "name": "stdout",
          "text": [
            "[21 22 23 24 25]\n"
          ]
        }
      ]
    },
    {
      "cell_type": "code",
      "source": [
        "#p.Написать код к стартовой матрице задачи l , который воспроизводит вывод, показанный ниже\n",
        "import numpy as np\n",
        "mat = np.arange(1,26).reshape(5,5)\n",
        "print(mat[-2:])"
      ],
      "metadata": {
        "colab": {
          "base_uri": "https://localhost:8080/"
        },
        "id": "SVErcosOZqiO",
        "outputId": "eca12ae8-bc79-45cf-803f-24d03647f7a7"
      },
      "execution_count": null,
      "outputs": [
        {
          "output_type": "stream",
          "name": "stdout",
          "text": [
            "[[16 17 18 19 20]\n",
            " [21 22 23 24 25]]\n"
          ]
        }
      ]
    },
    {
      "cell_type": "code",
      "source": [
        "#q.Получить сумму всех значений в стартовой матрице mat\n",
        "import numpy as np\n",
        "mat = np.arange(1,26).reshape(5,5)\n",
        "print(mat.sum())"
      ],
      "metadata": {
        "colab": {
          "base_uri": "https://localhost:8080/"
        },
        "id": "cFOzZtcbaOEa",
        "outputId": "d66a444f-421a-4599-e081-22c6bbc5e836"
      },
      "execution_count": null,
      "outputs": [
        {
          "output_type": "stream",
          "name": "stdout",
          "text": [
            "325\n"
          ]
        }
      ]
    },
    {
      "cell_type": "code",
      "source": [
        "#r.Получить стандартное отклонение в стартовой матрице mat\n",
        "import numpy as np\n",
        "mat = np.arange(1,26).reshape(5,5)\n",
        "print(mat.std())"
      ],
      "metadata": {
        "colab": {
          "base_uri": "https://localhost:8080/"
        },
        "id": "KMW5n1lealp8",
        "outputId": "07436b59-0263-4820-c418-ff3e8c03e030"
      },
      "execution_count": null,
      "outputs": [
        {
          "output_type": "stream",
          "name": "stdout",
          "text": [
            "7.211102550927978\n"
          ]
        }
      ]
    },
    {
      "cell_type": "code",
      "source": [
        "#s.Получить сумму значений в колонках в стартовой матрице mat\n",
        "import numpy as np\n",
        "mat = np.arange(1,26).reshape(5,5)\n",
        "print(mat.sum(axis =0))"
      ],
      "metadata": {
        "colab": {
          "base_uri": "https://localhost:8080/"
        },
        "id": "TMDj0eZta1nw",
        "outputId": "5de2299d-d9d5-4f94-aacd-158f69194c21"
      },
      "execution_count": null,
      "outputs": [
        {
          "output_type": "stream",
          "name": "stdout",
          "text": [
            "[55 60 65 70 75]\n"
          ]
        }
      ]
    }
  ]
}